{
 "cells": [
  {
   "cell_type": "code",
   "execution_count": 3,
   "metadata": {},
   "outputs": [],
   "source": [
    "from bs4 import BeautifulSoup\n",
    "import requests as req\n",
    "import pandas as pd"
   ]
  },
  {
   "cell_type": "code",
   "execution_count": null,
   "metadata": {},
   "outputs": [
    {
     "data": {
      "text/plain": [
       "'\\n<!DOCTYPE html>\\n<html>\\n    <head>\\n        <meta charset=\"utf-8\">\\n    </head>\\n    <body>\\n        <h1>안녕하세요.</h1>\\n        <h2>안녕하세요.</h2>\\n        <h3>안녕하세요.</h3>\\n        <h4>안녕하세요.</h4>\\n        <h5>안녕하세요.</h5>\\n        <h6>안녕하세요.</h6>\\n    </body>\\n</html>\\n'"
      ]
     },
     "execution_count": 9,
     "metadata": {},
     "output_type": "execute_result"
    }
   ],
   "source": [
    "html = '''\n",
    "<!DOCTYPE html>\n",
    "<html>\n",
    "    <head>\n",
    "        <meta charset=\"utf-8\">\n",
    "    </head>\n",
    "    <body>\n",
    "        <h1>안녕하세요.</h1>\n",
    "        <h2>안녕하세요.</h2>\n",
    "        <h3>안녕하세요.</h3>\n",
    "        <h4>안녕하세요.</h4>\n",
    "        <h5>안녕하세요.</h5>\n",
    "        <h6>안녕하세요.</h6>\n",
    "    </body>\n",
    "</html>\n",
    "'''\n",
    "html"
   ]
  },
  {
   "cell_type": "code",
   "execution_count": 10,
   "metadata": {},
   "outputs": [
    {
     "data": {
      "text/plain": [
       "\n",
       "<!DOCTYPE html>\n",
       "\n",
       "<html>\n",
       "<head>\n",
       "<meta charset=\"utf-8\"/>\n",
       "</head>\n",
       "<body>\n",
       "<h1>안녕하세요.</h1>\n",
       "<h2>안녕하세요.</h2>\n",
       "<h3>안녕하세요.</h3>\n",
       "<h4>안녕하세요.</h4>\n",
       "<h5>안녕하세요.</h5>\n",
       "<h6>안녕하세요.</h6>\n",
       "</body>\n",
       "</html>"
      ]
     },
     "execution_count": 10,
     "metadata": {},
     "output_type": "execute_result"
    }
   ],
   "source": [
    "data = BeautifulSoup(html, 'html.parser')\n",
    "data"
   ]
  },
  {
   "cell_type": "code",
   "execution_count": 13,
   "metadata": {},
   "outputs": [
    {
     "data": {
      "text/plain": [
       "'안녕하세요.'"
      ]
     },
     "execution_count": 13,
     "metadata": {},
     "output_type": "execute_result"
    }
   ],
   "source": [
    "data.find(\"h3\").text"
   ]
  },
  {
   "cell_type": "code",
   "execution_count": 5,
   "metadata": {},
   "outputs": [
    {
     "data": {
      "text/plain": [
       "'<!DOCTYPE html>\\r\\n<html>\\r\\n    <head>\\r\\n        <meta charset=\"utf-8\">\\r\\n    </head>\\r\\n    <body>\\r\\n        <h1>안녕하세요.</h1>\\r\\n        <h2>안녕하세요.</h2>\\r\\n        <h3>안녕하세요.</h3>\\r\\n        <h4>안녕하세요.</h4>\\r\\n        <h5>안녕하세요.</h5>\\r\\n        <h6>안녕하세요.</h6>\\r\\n    <!-- Code injected by live-server -->\\n<script>\\n\\t// <![CDATA[  <-- For SVG support\\n\\tif (\\'WebSocket\\' in window) {\\n\\t\\t(function () {\\n\\t\\t\\tfunction refreshCSS() {\\n\\t\\t\\t\\tvar sheets = [].slice.call(document.getElementsByTagName(\"link\"));\\n\\t\\t\\t\\tvar head = document.getElementsByTagName(\"head\")[0];\\n\\t\\t\\t\\tfor (var i = 0; i < sheets.length; ++i) {\\n\\t\\t\\t\\t\\tvar elem = sheets[i];\\n\\t\\t\\t\\t\\tvar parent = elem.parentElement || head;\\n\\t\\t\\t\\t\\tparent.removeChild(elem);\\n\\t\\t\\t\\t\\tvar rel = elem.rel;\\n\\t\\t\\t\\t\\tif (elem.href && typeof rel != \"string\" || rel.length == 0 || rel.toLowerCase() == \"stylesheet\") {\\n\\t\\t\\t\\t\\t\\tvar url = elem.href.replace(/(&|\\\\?)_cacheOverride=\\\\d+/, \\'\\');\\n\\t\\t\\t\\t\\t\\telem.href = url + (url.indexOf(\\'?\\') >= 0 ? \\'&\\' : \\'?\\') + \\'_cacheOverride=\\' + (new Date().valueOf());\\n\\t\\t\\t\\t\\t}\\n\\t\\t\\t\\t\\tparent.appendChild(elem);\\n\\t\\t\\t\\t}\\n\\t\\t\\t}\\n\\t\\t\\tvar protocol = window.location.protocol === \\'http:\\' ? \\'ws://\\' : \\'wss://\\';\\n\\t\\t\\tvar address = protocol + window.location.host + window.location.pathname + \\'/ws\\';\\n\\t\\t\\tvar socket = new WebSocket(address);\\n\\t\\t\\tsocket.onmessage = function (msg) {\\n\\t\\t\\t\\tif (msg.data == \\'reload\\') window.location.reload();\\n\\t\\t\\t\\telse if (msg.data == \\'refreshcss\\') refreshCSS();\\n\\t\\t\\t};\\n\\t\\t\\tif (sessionStorage && !sessionStorage.getItem(\\'IsThisFirstTime_Log_From_LiveServer\\')) {\\n\\t\\t\\t\\tconsole.log(\\'Live reload enabled.\\');\\n\\t\\t\\t\\tsessionStorage.setItem(\\'IsThisFirstTime_Log_From_LiveServer\\', true);\\n\\t\\t\\t}\\n\\t\\t})();\\n\\t}\\n\\telse {\\n\\t\\tconsole.error(\\'Upgrade your browser. This Browser is NOT supported WebSocket for Live-Reloading.\\');\\n\\t}\\n\\t// ]]>\\n</script>\\n</body>\\r\\n</html>'"
      ]
     },
     "execution_count": 5,
     "metadata": {},
     "output_type": "execute_result"
    }
   ],
   "source": [
    "r = req.get(\"http://127.0.0.1:5500/html/page1.html\")\n",
    "r.text"
   ]
  },
  {
   "cell_type": "code",
   "execution_count": 7,
   "metadata": {},
   "outputs": [
    {
     "data": {
      "text/plain": [
       "<Response [200]>"
      ]
     },
     "execution_count": 7,
     "metadata": {},
     "output_type": "execute_result"
    }
   ],
   "source": [
    "r"
   ]
  },
  {
   "cell_type": "code",
   "execution_count": 23,
   "metadata": {},
   "outputs": [],
   "source": [
    "def print1(data):\n",
    "    arr = data.find_all(\"h1\")\n",
    "    # print(len(arr), type(arr))\n",
    "    for txt in arr:\n",
    "        print(type(txt.text))"
   ]
  },
  {
   "cell_type": "code",
   "execution_count": null,
   "metadata": {},
   "outputs": [
    {
     "data": {
      "text/html": [
       "<div>\n",
       "<style scoped>\n",
       "    .dataframe tbody tr th:only-of-type {\n",
       "        vertical-align: middle;\n",
       "    }\n",
       "\n",
       "    .dataframe tbody tr th {\n",
       "        vertical-align: top;\n",
       "    }\n",
       "\n",
       "    .dataframe thead th {\n",
       "        text-align: right;\n",
       "    }\n",
       "</style>\n",
       "<table border=\"1\" class=\"dataframe\">\n",
       "  <thead>\n",
       "    <tr style=\"text-align: right;\">\n",
       "      <th></th>\n",
       "      <th>이름</th>\n",
       "      <th>나이</th>\n",
       "    </tr>\n",
       "  </thead>\n",
       "  <tbody>\n",
       "    <tr>\n",
       "      <th>1</th>\n",
       "      <td>홍길동</td>\n",
       "      <td>17</td>\n",
       "    </tr>\n",
       "    <tr>\n",
       "      <th>2</th>\n",
       "      <td>류관순</td>\n",
       "      <td>16</td>\n",
       "    </tr>\n",
       "  </tbody>\n",
       "</table>\n",
       "</div>"
      ],
      "text/plain": [
       "    이름  나이\n",
       "1  홍길동  17\n",
       "2  류관순  16"
      ]
     },
     "execution_count": 29,
     "metadata": {},
     "output_type": "execute_result"
    }
   ],
   "source": [
    "r = req.get(\"http://127.0.0.1:5500/html/page1.html\")\n",
    "data1 = BeautifulSoup(r.text, 'html.parser')\n",
    "# print1(data1)\n",
    "idx = []\n",
    "col = []\n",
    "data2 = data1.find(\"tr\").find_all(\"th\")\n",
    "for i in range(1, len(data2)):\n",
    "    col.append(data2[i].text)\n",
    "list = []\n",
    "data3 = data1.find(\"tbody\").find_all(\"tr\")\n",
    "for i in range(len(data3)):\n",
    "    arr = []\n",
    "    data4 = data3[i].find_all(\"td\")\n",
    "    idx.append(data4[0].text)\n",
    "    for j in range(1, len(data4)):\n",
    "        arr.append(data4[j].text)\n",
    "    list.append(arr)\n",
    "# print(idx)\n",
    "# print(col)\n",
    "# print(list)\n",
    "pd.DataFrame(list, index=idx, columns=col)"
   ]
  },
  {
   "cell_type": "code",
   "execution_count": null,
   "metadata": {},
   "outputs": [
    {
     "data": {
      "text/plain": [
       "['', '번호', '이름', '나이', '1', '홍길동', '17', '2', '류관순', '16', '']"
      ]
     },
     "execution_count": 30,
     "metadata": {},
     "output_type": "execute_result"
    }
   ],
   "source": [
    "r = req.get(\"http://127.0.0.1:5500/html/page1.html\")\n",
    "data1 = BeautifulSoup(r.text, 'html.parser')\n",
    "d1 = data1.find(\"table\").text.replace(\"\\n\\n\", \"\")\n",
    "d2 = d1.split(\"\\n\")\n",
    "d2"
   ]
  }
 ],
 "metadata": {
  "kernelspec": {
   "display_name": "Python 3",
   "language": "python",
   "name": "python3"
  },
  "language_info": {
   "codemirror_mode": {
    "name": "ipython",
    "version": 3
   },
   "file_extension": ".py",
   "mimetype": "text/x-python",
   "name": "python",
   "nbconvert_exporter": "python",
   "pygments_lexer": "ipython3",
   "version": "3.11.9"
  }
 },
 "nbformat": 4,
 "nbformat_minor": 2
}
