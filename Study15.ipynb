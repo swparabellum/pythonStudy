{
 "cells": [
  {
   "cell_type": "code",
   "execution_count": 1,
   "metadata": {},
   "outputs": [],
   "source": [
    "from requests import get\n",
    "from bs4 import BeautifulSoup as bs\n",
    "import pandas as pd"
   ]
  },
  {
   "cell_type": "code",
   "execution_count": null,
   "metadata": {},
   "outputs": [
    {
     "data": {
      "text/plain": [
       "(506, 5)"
      ]
     },
     "execution_count": 10,
     "metadata": {},
     "output_type": "execute_result"
    }
   ],
   "source": [
    "# df = pd.read_csv(\"./data/data1.csv\", encoding=\"utf-8\", index_col=\"관리번호\").drop(\"연번\", axis=1)\n",
    "# df.shape"
   ]
  },
  {
   "cell_type": "code",
   "execution_count": null,
   "metadata": {},
   "outputs": [
    {
     "name": "stdout",
     "output_type": "stream",
     "text": [
      "['In this example, we have created a header, three equal columns and a footer. On smaller screens, the columns will stack on top of each other.', 'Resize the browser window to see the responsive effect.', 'Note: The Grid Layout Module is not supported in Internet Explorer or Edge 15 eand earlier versions.', 'Footer']\n"
     ]
    }
   ],
   "source": [
    "# res = get(\"http://127.0.0.1:5500/html/page3.html\")\n",
    "# list = []\n",
    "# if res.status_code == 200:\n",
    "#     data = bs(res.text, \"html.parser\")\n",
    "#     # print(data.p)\n",
    "#     # print(data.find(\"p\"))\n",
    "#     # print(data.find_all(\"p\"))\n",
    "#     # print(data.select_one(\"p\"))\n",
    "#     # print(data.select(\"p\"))\n",
    "#     # print(data.select(\"p\")[2])\n",
    "#     # print(data.select(\"p\")[2].text)\n",
    "#     for r in data.select(\"p\"):\n",
    "#         # print(r.text)\n",
    "#         list.append(r.text)\n",
    "# print(list)"
   ]
  },
  {
   "cell_type": "code",
   "execution_count": null,
   "metadata": {},
   "outputs": [
    {
     "name": "stdout",
     "output_type": "stream",
     "text": [
      "['In this example, we have created a header, three equal columns and a footer. On smaller screens, the columns will stack on top of each other.', 'Resize the browser window to see the responsive effect.', 'Note: The Grid Layout Module is not supported in Internet Explorer or Edge 15 eand earlier versions.', 'Footer']\n"
     ]
    }
   ],
   "source": [
    "res = get(\"http://127.0.0.1:5500/html/page3.html\")\n",
    "list = []\n",
    "if res.status_code == 200:\n",
    "    data = bs(res.text, \"html.parser\")\n",
    "    for r in data.select(\"p\"):\n",
    "        list.append(r.text)\n",
    "print(list)"
   ]
  },
  {
   "cell_type": "code",
   "execution_count": 10,
   "metadata": {},
   "outputs": [],
   "source": [
    "def 데이터가져오기(url, callback):\n",
    "    res = get(url)\n",
    "    if res.status_code == 200:\n",
    "        return callback(bs(res.text, \"html.parser\"))\n",
    "    return \"\""
   ]
  },
  {
   "cell_type": "code",
   "execution_count": 9,
   "metadata": {},
   "outputs": [],
   "source": [
    "def 데이터추출(data):\n",
    "    list = []\n",
    "    for r in data.select(\"p\"):\n",
    "        list.append(r.text)\n",
    "    return list"
   ]
  },
  {
   "cell_type": "code",
   "execution_count": 36,
   "metadata": {},
   "outputs": [
    {
     "name": "stdout",
     "output_type": "stream",
     "text": [
      "['In this example, we have created a header, three equal columns and a footer. On smaller screens, the columns will stack on top of each other.', 'Resize the browser window to see the responsive effect.', 'Note: The Grid Layout Module is not supported in Internet Explorer or Edge 15 eand earlier versions.', 'Footer']\n"
     ]
    }
   ],
   "source": [
    "url = \"http://127.0.0.1:5500/html/page3.html\"\n",
    "# data = 데이터가져오기(url)\n",
    "# list = 데이터추출(data)\n",
    "# list = 데이터추출(데이터가져오기(url))\n",
    "list = 데이터가져오기(url, 데이터추출)\n",
    "print(list)"
   ]
  },
  {
   "cell_type": "code",
   "execution_count": 8,
   "metadata": {},
   "outputs": [
    {
     "name": "stdout",
     "output_type": "stream",
     "text": [
      "Column2\n"
     ]
    }
   ],
   "source": [
    "res = get(\"http://127.0.0.1:5500/html/page3.html\")\n",
    "list = []\n",
    "data = bs(res.text, \"html.parser\")\n",
    "\n",
    "print(data.select(\"div\")[3].text)\n"
   ]
  },
  {
   "cell_type": "code",
   "execution_count": null,
   "metadata": {},
   "outputs": [
    {
     "name": "stdout",
     "output_type": "stream",
     "text": [
      "Column2 1\n"
     ]
    }
   ],
   "source": [
    "#데이터에 접근하는 방식들\n",
    "url = \"http://127.0.0.1:5500/html/page3.html\"\n",
    "def getData(data):\n",
    "    list = data.select(\"div.grid-container > div.middle\")\n",
    "    print(list[0].text,len(list))\n",
    "\n",
    "데이터가져오기(url, getData)"
   ]
  },
  {
   "cell_type": "code",
   "execution_count": null,
   "metadata": {},
   "outputs": [
    {
     "name": "stdout",
     "output_type": "stream",
     "text": [
      "Column2 1\n"
     ]
    }
   ],
   "source": [
    "#데이터에 접근하는 방식들\n",
    "\n",
    "url = \"http://127.0.0.1:5500/html/page3.html\"\n",
    "def getData(data):\n",
    "    list = data.select(\"div.middle\")\n",
    "    print(list[0].text,len(list))\n",
    "\n",
    "데이터가져오기(url, getData)"
   ]
  },
  {
   "cell_type": "code",
   "execution_count": null,
   "metadata": {},
   "outputs": [
    {
     "name": "stdout",
     "output_type": "stream",
     "text": [
      "Column2 1\n"
     ]
    }
   ],
   "source": [
    "#데이터에 접근하는 방식들\n",
    "\n",
    "url = \"http://127.0.0.1:5500/html/page3.html\"\n",
    "def getData(data):\n",
    "    list = data.select(\"[style*=bbb]\")\n",
    "    print(list[0].text,len(list))\n",
    "\n",
    "데이터가져오기(url, getData)"
   ]
  },
  {
   "cell_type": "code",
   "execution_count": 38,
   "metadata": {},
   "outputs": [
    {
     "data": {
      "text/html": [
       "<div>\n",
       "<style scoped>\n",
       "    .dataframe tbody tr th:only-of-type {\n",
       "        vertical-align: middle;\n",
       "    }\n",
       "\n",
       "    .dataframe tbody tr th {\n",
       "        vertical-align: top;\n",
       "    }\n",
       "\n",
       "    .dataframe thead th {\n",
       "        text-align: right;\n",
       "    }\n",
       "</style>\n",
       "<table border=\"1\" class=\"dataframe\">\n",
       "  <thead>\n",
       "    <tr style=\"text-align: right;\">\n",
       "      <th></th>\n",
       "    </tr>\n",
       "  </thead>\n",
       "  <tbody>\n",
       "  </tbody>\n",
       "</table>\n",
       "</div>"
      ],
      "text/plain": [
       "Empty DataFrame\n",
       "Columns: []\n",
       "Index: []"
      ]
     },
     "execution_count": 38,
     "metadata": {},
     "output_type": "execute_result"
    }
   ],
   "source": [
    "html = '''\n",
    "\t\t\t\t\t\n",
    "                    <caption>인기 검색 종목표<span>종목명에 대한 현재가,전일대비로 구분되어 있습니다.</span></caption>\n",
    "\t\t\t\t\t<colgroup>\n",
    "\t\t\t\t\t<col>\n",
    "\t\t\t\t\t<col width=\"60\">\n",
    "\t\t\t\t\t<col width=\"65\">\n",
    "\t\t\t\t\t</colgroup>\n",
    "\t\t\t\t\t<thead>\n",
    "\t\t\t\t\t<tr>\n",
    "\t\t\t\t\t<th scope=\"col\">구분</th>\n",
    "\t\t\t\t\t<th scope=\"col\">현재가</th>\n",
    "\t\t\t\t\t<th scope=\"col\">전일대비</th>\n",
    "\t\t\t\t\t</tr>\n",
    "\t\t\t\t\t</thead>\n",
    "\t\t\t\t\t<tbody>\n",
    "\t\t\t\t\n",
    "\t\t\t\t\t<tr class=\"up\"><th scope=\"row\"><em>1.</em><a href=\"/item/main.naver?code=005930\" onclick=\"clickcr(this, &quot;boa.list&quot;, &quot;005930&quot;, &quot;1&quot;, event);\">삼성전자</a></th><td>53,900</td><td><em class=\"bu_p bu_pup\"><span class=\"blind\">상승</span></em><span class=\"tah p11 red02\"> 800 </span></td></tr>\n",
    "\t\t\t\t\n",
    "\t\t\t\t\t<tr class=\"up\"><th scope=\"row\"><em>2.</em><a href=\"/item/main.naver?code=000660\" onclick=\"clickcr(this, &quot;boa.list&quot;, &quot;000660&quot;, &quot;2&quot;, event);\">SK하이닉스</a></th><td>175,100</td><td><em class=\"bu_p bu_pup\"><span class=\"blind\">상승</span></em><span class=\"tah p11 red02\"> 7,100 </span></td></tr>\n",
    "\t\t\t\t\n",
    "\t\t\t\t\t<tr class=\"down\"><th scope=\"row\"><em>3.</em><a href=\"/item/main.naver?code=035720\" onclick=\"clickcr(this, &quot;boa.list&quot;, &quot;035720&quot;, &quot;3&quot;, event);\">카카오</a></th><td>44,100</td><td><em class=\"bu_p bu_pdn\"><span class=\"blind\">하락</span></em><span class=\"tah p11 nv01\"> 2,500 </span></td></tr>\n",
    "\t\t\t\t\n",
    "\t\t\t\t\t<tr class=\"down\"><th scope=\"row\"><em>4.</em><a href=\"/item/main.naver?code=105560\" onclick=\"clickcr(this, &quot;boa.list&quot;, &quot;105560&quot;, &quot;4&quot;, event);\">KB금융</a></th><td>86,900</td><td><em class=\"bu_p bu_pdn\"><span class=\"blind\">하락</span></em><span class=\"tah p11 nv01\"> 8,500 </span></td></tr>\n",
    "\t\t\t\t\n",
    "\t\t\t\t\t<tr class=\"up\"><th scope=\"row\"><em>5.</em><a href=\"/item/main.naver?code=010130\" onclick=\"clickcr(this, &quot;boa.list&quot;, &quot;010130&quot;, &quot;5&quot;, event);\">고려아연</a></th><td>1,820,000</td><td><em class=\"bu_p bu_pup\"><span class=\"blind\">상승</span></em><span class=\"tah p11 red02\"> 149,000 </span></td></tr>\n",
    "\t\t\t\t\n",
    "\t\t\t\t\t</tbody>\n",
    "\t\t\t\t\t\n",
    "'''\n",
    "\n",
    "def 컴마삭제(data):\n",
    "    return int(data.replace(\",\",\"\"))\n",
    "# print(컴마삭제(\"1,200\"))\n",
    "\n",
    "data = bs(html, 'html.parser')\n",
    "trs = data.select(\"table.tbl_home > tbody > tr\")\n",
    "arr = []\n",
    "idx = []\n",
    "for tr in trs:\n",
    "    idx.append(tr.select_one(\"th\").text)\n",
    "\n",
    "    arr1 = []\n",
    "    for td in tr.select(\"td\"):\n",
    "        if td.text.count(\" \") > 0:\n",
    "            arr1.append( 컴마삭제(td.text[td.text.index(\" \"):].strip()) )\n",
    "        else :\n",
    "            arr1.append( 컴마삭제(td.text) )\n",
    "    arr.append(arr1)\n",
    "# print(idx)\n",
    "# print(arr)\n",
    "pd.DataFrame(arr, index=idx)"
   ]
  },
  {
   "cell_type": "code",
   "execution_count": 39,
   "metadata": {},
   "outputs": [
    {
     "data": {
      "text/html": [
       "<div>\n",
       "<style scoped>\n",
       "    .dataframe tbody tr th:only-of-type {\n",
       "        vertical-align: middle;\n",
       "    }\n",
       "\n",
       "    .dataframe tbody tr th {\n",
       "        vertical-align: top;\n",
       "    }\n",
       "\n",
       "    .dataframe thead th {\n",
       "        text-align: right;\n",
       "    }\n",
       "</style>\n",
       "<table border=\"1\" class=\"dataframe\">\n",
       "  <thead>\n",
       "    <tr style=\"text-align: right;\">\n",
       "      <th></th>\n",
       "      <th>0</th>\n",
       "      <th>1</th>\n",
       "    </tr>\n",
       "  </thead>\n",
       "  <tbody>\n",
       "    <tr>\n",
       "      <th>1.삼성전자</th>\n",
       "      <td>53900</td>\n",
       "      <td>800</td>\n",
       "    </tr>\n",
       "    <tr>\n",
       "      <th>2.고려아연</th>\n",
       "      <td>1821000</td>\n",
       "      <td>150000</td>\n",
       "    </tr>\n",
       "    <tr>\n",
       "      <th>3.SK하이닉스</th>\n",
       "      <td>174300</td>\n",
       "      <td>6300</td>\n",
       "    </tr>\n",
       "    <tr>\n",
       "      <th>4.KB금융</th>\n",
       "      <td>87000</td>\n",
       "      <td>8400</td>\n",
       "    </tr>\n",
       "    <tr>\n",
       "      <th>5.카카오</th>\n",
       "      <td>44450</td>\n",
       "      <td>2150</td>\n",
       "    </tr>\n",
       "  </tbody>\n",
       "</table>\n",
       "</div>"
      ],
      "text/plain": [
       "                0       1\n",
       "1.삼성전자      53900     800\n",
       "2.고려아연    1821000  150000\n",
       "3.SK하이닉스   174300    6300\n",
       "4.KB금융      87000    8400\n",
       "5.카카오       44450    2150"
      ]
     },
     "execution_count": 39,
     "metadata": {},
     "output_type": "execute_result"
    }
   ],
   "source": [
    "res = get(\"https://finance.naver.com/\")\n",
    "def 컴마삭제(data):\n",
    "    return int(data.replace(\",\",\"\"))\n",
    "\n",
    "data = bs(res.text, 'html.parser')\n",
    "trs = data.select(\"div.aside_area.aside_popular > table.tbl_home > tbody > tr\")\n",
    "# print(trs)\n",
    "arr = []\n",
    "idx = []\n",
    "for tr in trs:\n",
    "    idx.append(tr.select_one(\"th\").text)\n",
    "\n",
    "    arr1 = []\n",
    "    for td in tr.select(\"td\"):\n",
    "        arr1.append( 컴마삭제(td.text.replace(\"\\n\",\"\").replace(\"\\t\",\"\").replace(\"상승\",\"\").replace(\"하락\",\"\")) )\n",
    "    arr.append(arr1)\n",
    "# print(idx)\n",
    "# print(arr)\n",
    "pd.DataFrame(arr, index=idx)\n"
   ]
  },
  {
   "cell_type": "code",
   "execution_count": null,
   "metadata": {},
   "outputs": [],
   "source": []
  }
 ],
 "metadata": {
  "kernelspec": {
   "display_name": "Python 3",
   "language": "python",
   "name": "python3"
  },
  "language_info": {
   "codemirror_mode": {
    "name": "ipython",
    "version": 3
   },
   "file_extension": ".py",
   "mimetype": "text/x-python",
   "name": "python",
   "nbconvert_exporter": "python",
   "pygments_lexer": "ipython3",
   "version": "3.12.3"
  }
 },
 "nbformat": 4,
 "nbformat_minor": 2
}
