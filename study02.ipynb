{
 "cells": [
  {
   "cell_type": "code",
   "execution_count": 11,
   "metadata": {},
   "outputs": [
    {
     "name": "stdout",
     "output_type": "stream",
     "text": [
      "['Feeling : 1', 'grateful : 1', 'and : 1', 'content : 1', 'today : 1']\n"
     ]
    }
   ],
   "source": [
    "a = \"Feeling grateful and content today\"\n",
    "a.count('n')\n",
    "\n",
    "arr = a.split(' ')\n",
    "arr\n",
    "strs=[]\n",
    "\n",
    "for txt in arr:\n",
    "    t = \", \".join(txt).split(\",\")\n",
    "    ts = []\n",
    "    for s in t:\n",
    "        if s not in ts:\n",
    "            ts.append(s)\n",
    "        b=0\n",
    "        for s in ts:\n",
    "            if b<txt.count(s):\n",
    "                b = txt.count(s)\n",
    "    strs.append(f\"{txt} : {b}\")\n",
    "print(strs)\n"
   ]
  }
 ],
 "metadata": {
  "kernelspec": {
   "display_name": "Python 3",
   "language": "python",
   "name": "python3"
  },
  "language_info": {
   "codemirror_mode": {
    "name": "ipython",
    "version": 3
   },
   "file_extension": ".py",
   "mimetype": "text/x-python",
   "name": "python",
   "nbconvert_exporter": "python",
   "pygments_lexer": "ipython3",
   "version": "3.12.3"
  }
 },
 "nbformat": 4,
 "nbformat_minor": 2
}
