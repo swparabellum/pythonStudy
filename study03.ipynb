{
 "cells": [
  {
   "cell_type": "code",
   "execution_count": 3,
   "metadata": {},
   "outputs": [
    {
     "data": {
      "text/plain": [
       "10"
      ]
     },
     "execution_count": 3,
     "metadata": {},
     "output_type": "execute_result"
    }
   ],
   "source": [
    "a = []\n",
    "len(a)\n",
    "\n",
    "for i in range(10):\n",
    "    a.append(\"\")\n",
    "len(a)"
   ]
  },
  {
   "cell_type": "code",
   "execution_count": null,
   "metadata": {},
   "outputs": [
    {
     "data": {
      "text/plain": [
       "10"
      ]
     },
     "execution_count": 5,
     "metadata": {},
     "output_type": "execute_result"
    }
   ],
   "source": [
    "a= [\"\"] * 10 \n",
    "len(a)\n",
    "\n"
   ]
  },
  {
   "cell_type": "code",
   "execution_count": null,
   "metadata": {},
   "outputs": [
    {
     "data": {
      "text/plain": [
       "[['', 'B', '', '', '', '', '', '', '', ''],\n",
       " ['', 'B', '', '', '', '', '', '', '', ''],\n",
       " ['', 'B', '', '', '', '', '', '', '', ''],\n",
       " ['', 'B', '', '', '', '', '', '', '', ''],\n",
       " ['', 'B', '', '', '', '', '', '', '', ''],\n",
       " ['', 'B', '', '', '', '', '', '', '', ''],\n",
       " ['', 'B', '', '', '', '', '', '', '', ''],\n",
       " ['', 'B', '', '', '', '', '', '', '', ''],\n",
       " ['', 'B', '', '', '', '', '', '', '', ''],\n",
       " ['', 'B', '', '', '', '', '', '', '', '']]"
      ]
     },
     "execution_count": 9,
     "metadata": {},
     "output_type": "execute_result"
    }
   ],
   "source": [
    "a= [[\"\"] * 10 ] * 10\n",
    "a[0][1] = \"B\"\n",
    "a\n",
    "\n",
    "#똑같은 저장소를 가지기때문에 2차원 배열이 아님!!"
   ]
  },
  {
   "cell_type": "code",
   "execution_count": 10,
   "metadata": {},
   "outputs": [
    {
     "data": {
      "text/plain": [
       "[['', '', '', '', '', '', '', '', '', ''],\n",
       " ['', '', '', '', '', '', '', '', '', ''],\n",
       " ['', '', '', '', '', '', '', '', '', ''],\n",
       " ['', '', '', '', '', '', '', '', '', ''],\n",
       " ['', '', '', 'c', '', '', '', '', '', ''],\n",
       " ['', '', '', '', '', '', '', '', '', ''],\n",
       " ['', '', '', '', '', '', '', '', '', ''],\n",
       " ['', '', '', '', '', '', '', '', '', ''],\n",
       " ['', '', '', '', '', '', '', '', '', ''],\n",
       " ['', '', '', '', '', '', '', '', '', '']]"
      ]
     },
     "execution_count": 10,
     "metadata": {},
     "output_type": "execute_result"
    }
   ],
   "source": [
    "a = [[\"\"] * 10 for i in range(10)]\n",
    "a[4][3] = \"c\"\n",
    "a"
   ]
  },
  {
   "cell_type": "code",
   "execution_count": 11,
   "metadata": {},
   "outputs": [
    {
     "name": "stdout",
     "output_type": "stream",
     "text": [
      "1\n",
      "2\n",
      "삼\n",
      "4\n",
      "5\n",
      "6\n",
      "7\n",
      "8\n",
      "9\n"
     ]
    }
   ],
   "source": [
    "a = [1,2,3,4,5,6,7,8,9]\n",
    "\n",
    "for i in a:\n",
    "    print(\"삼\" if i == 3 else i)"
   ]
  },
  {
   "cell_type": "code",
   "execution_count": 1,
   "metadata": {},
   "outputs": [
    {
     "data": {
      "text/plain": [
       "int"
      ]
     },
     "execution_count": 1,
     "metadata": {},
     "output_type": "execute_result"
    }
   ],
   "source": [
    "a = int( input() )\n",
    "type(a)"
   ]
  },
  {
   "cell_type": "code",
   "execution_count": 13,
   "metadata": {},
   "outputs": [
    {
     "name": "stdout",
     "output_type": "stream",
     "text": [
      "안녕하세요...  [! 시 종료]\n",
      "파란약과 빨간약이 있습니다. 뭘 선택하시겠습니까?\n",
      "빨간약! 50원 돈주세요.\n",
      "돈 받았습니다.\n",
      "안녕하세요...  [! 시 종료]\n",
      "파란약과 빨간약이 있습니다. 뭘 선택하시겠습니까?\n",
      "안녕하세요...  [! 시 종료]\n",
      "파란약과 빨간약이 있습니다. 뭘 선택하시겠습니까?\n"
     ]
    }
   ],
   "source": [
    "def doSomething(pay,price):\n",
    "    try:\n",
    "        if(pay > price):\n",
    "            print(\"돈 받았습니다. 잔돈은 \",(pay-price),\"원입니다.\")\n",
    "        elif(pay == price):\n",
    "            print(\"돈 받았습니다.\")\n",
    "        else:\n",
    "            print(\"받은 돈이 부족합니다.\")\n",
    "    except:\n",
    "        print()\n",
    "\n",
    "\n",
    "while True:\n",
    "    print(\"안녕하세요...  [! 시 종료]\")\n",
    "    print(\"파란약과 빨간약이 있습니다. 뭘 선택하시겠습니까?\")\n",
    "    a = input()\n",
    "    if(a == \"빨간약\"):\n",
    "        print(\"빨간약! 50원 돈주세요.\")\n",
    "        b = int(input())\n",
    "        doSomething(b,50)\n",
    "    elif(a == \"파란약\"):\n",
    "        print(\"파란약! 60원 돈주세요\")\n",
    "        b= int(input())\n",
    "        doSomething(b,60)\n",
    "    elif(a == \"!\"):\n",
    "        break\n",
    "\n",
    "\n",
    "\n"
   ]
  }
 ],
 "metadata": {
  "kernelspec": {
   "display_name": "Python 3",
   "language": "python",
   "name": "python3"
  },
  "language_info": {
   "codemirror_mode": {
    "name": "ipython",
    "version": 3
   },
   "file_extension": ".py",
   "mimetype": "text/x-python",
   "name": "python",
   "nbconvert_exporter": "python",
   "pygments_lexer": "ipython3",
   "version": "3.12.3"
  }
 },
 "nbformat": 4,
 "nbformat_minor": 2
}
