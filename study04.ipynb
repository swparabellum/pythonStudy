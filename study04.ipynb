{
 "cells": [
  {
   "cell_type": "code",
   "execution_count": 78,
   "metadata": {},
   "outputs": [
    {
     "name": "stdout",
     "output_type": "stream",
     "text": [
      "[[1, 10], [2, 20], [3, 30], [4, 40], [5, 50]]\n"
     ]
    }
   ],
   "source": [
    "#Q1. 1차원 배열 [1,2,3,4,5]에서 각각 10을 곱하여 2차원 배열로 만드시오.\n",
    "\n",
    "arr1 = [1,2,3,4,5]\n",
    "arr2 = []\n",
    "for d in arr1:\n",
    "    arr3 = []\n",
    "    # print(f'{d} * 10 = {d * 10}')\n",
    "    arr3.append(d)\n",
    "    arr3.append(d * 10)\n",
    "    arr2.append(arr3)\n",
    "print(arr2)"
   ]
  },
  {
   "cell_type": "code",
   "execution_count": 79,
   "metadata": {},
   "outputs": [
    {
     "name": "stdout",
     "output_type": "stream",
     "text": [
      "<class 'list'> [1, 2, 3, 4, 5]\n",
      "<class 'numpy.ndarray'> [1 2 3 4 5]\n",
      "[10 20 30 40 50]\n"
     ]
    },
    {
     "data": {
      "text/plain": [
       "np.int64(2)"
      ]
     },
     "execution_count": 79,
     "metadata": {},
     "output_type": "execute_result"
    }
   ],
   "source": [
    "# Q1 문제를 numpy로 했을 경우\n",
    "\n",
    "import numpy as np\n",
    "\n",
    "arr4 = np.array(arr1)\n",
    "print(type(arr1),arr1)\n",
    "print(type(arr4),arr4)\n",
    "\n",
    "print(arr4 * 10)\n",
    "\n",
    "arr4[1]"
   ]
  },
  {
   "cell_type": "code",
   "execution_count": 80,
   "metadata": {},
   "outputs": [],
   "source": [
    "#Q2. 2차원 배열에서 각 열에 대한 목록을 출력하시오.\n",
    "arr = [\n",
    "    [1, \"홍길동\", 17],\n",
    "    [2, \"류관순\", 16],\n",
    "    [3, \"강감찬\", 78],\n",
    "    [4, \"이성계\", 42],\n",
    "    [5, \"이황\", 57]\n",
    "]\n",
    "arr2 = [\n",
    "    [1,2,3,4,5],\n",
    "    [\"홍길동\", \"류관순\", \"강감찬\", \"이성계\", \"이황\"],\n",
    "    [17, 16, 78, 42, 57]\n",
    "]"
   ]
  },
  {
   "cell_type": "code",
   "execution_count": 81,
   "metadata": {},
   "outputs": [
    {
     "name": "stdout",
     "output_type": "stream",
     "text": [
      "<class 'numpy.ndarray'> [['1' '홍길동' '17']\n",
      " ['2' '류관순' '16']\n",
      " ['3' '강감찬' '78']\n",
      " ['4' '이성계' '42']\n",
      " ['5' '이황' '57']]\n"
     ]
    },
    {
     "data": {
      "text/plain": [
       "array(['홍길동', '류관순', '강감찬', '이성계', '이황'], dtype='<U21')"
      ]
     },
     "execution_count": 81,
     "metadata": {},
     "output_type": "execute_result"
    }
   ],
   "source": [
    "# Q2번 문제를 numpy로 했을경우\n",
    "\n",
    "arr5 = np.array(arr)\n",
    "print(type(arr5), arr5)\n",
    "arr5[0][1]\n",
    "arr5[0,1]\n",
    "arr5[:,1]"
   ]
  },
  {
   "cell_type": "code",
   "execution_count": 82,
   "metadata": {},
   "outputs": [
    {
     "data": {
      "text/plain": [
       "np.float64(75.3)"
      ]
     },
     "execution_count": 82,
     "metadata": {},
     "output_type": "execute_result"
    }
   ],
   "source": [
    "# Q3. 아래의 1차원 배열의 값의 평균값을 구하시오.\n",
    "arr1 = [80,76,63,83,99,87,100,42,68,55]\n",
    "np.average(arr1)\n"
   ]
  },
  {
   "cell_type": "code",
   "execution_count": 83,
   "metadata": {},
   "outputs": [
    {
     "ename": "TypeError",
     "evalue": "'str' object is not callable",
     "output_type": "error",
     "traceback": [
      "\u001b[0;31m---------------------------------------------------------------------------\u001b[0m",
      "\u001b[0;31mTypeError\u001b[0m                                 Traceback (most recent call last)",
      "Cell \u001b[0;32mIn[83], line 5\u001b[0m\n\u001b[1;32m      3\u001b[0m arr1\n\u001b[1;32m      4\u001b[0m \u001b[38;5;66;03m# 전체의 값을 더하고 전체의 갯를 나누면 평균값\u001b[39;00m\n\u001b[0;32m----> 5\u001b[0m 전체합 \u001b[38;5;241m=\u001b[39m \u001b[38;5;28;43msum\u001b[39;49m\u001b[43m(\u001b[49m\u001b[43marr1\u001b[49m\u001b[43m)\u001b[49m\n\u001b[1;32m      6\u001b[0m 전체갯수 \u001b[38;5;241m=\u001b[39m \u001b[38;5;28mlen\u001b[39m(arr1)\n\u001b[1;32m      7\u001b[0m \u001b[38;5;28mprint\u001b[39m(전체합, 전체갯수, 전체합 \u001b[38;5;241m/\u001b[39m 전체갯수)\n",
      "\u001b[0;31mTypeError\u001b[0m: 'str' object is not callable"
     ]
    }
   ],
   "source": [
    "# Q3. 아래의 1차원 배열의 값의 평균값을 구하시오. 모범답안\n",
    "arr1 = [80,76,63,83,99,87,100,42,68,55]\n",
    "arr1\n",
    "# 전체의 값을 더하고 전체의 갯를 나누면 평균값\n",
    "전체합 = sum(arr1)\n",
    "전체갯수 = len(arr1)\n",
    "print(전체합, 전체갯수, 전체합 / 전체갯수)"
   ]
  },
  {
   "cell_type": "code",
   "execution_count": null,
   "metadata": {},
   "outputs": [],
   "source": [
    "#모법답안예시2\n",
    "\n",
    "def 평균값(list):\n",
    "    return sum(list) / len(list)\n",
    "\n",
    "평균값(arr1)\n",
    "\n"
   ]
  },
  {
   "cell_type": "code",
   "execution_count": null,
   "metadata": {},
   "outputs": [
    {
     "data": {
      "text/plain": [
       "np.str_('99')"
      ]
     },
     "execution_count": 47,
     "metadata": {},
     "output_type": "execute_result"
    }
   ],
   "source": [
    "# Q4. 아래의 2차원 배열의 표에서 가장 점수가 높은 학생을 구하시오.\n",
    "arr2 = [\n",
    "    [\"홍길동\", 80],\n",
    "    [\"류관순\", 76],\n",
    "    [\"강감찬\", 99],\n",
    "    [\"이성계\", 87],\n",
    "    [\"이황\", 68]\n",
    "]\n",
    "\n",
    "tempArr = np.array(arr2)\n",
    "\n",
    "max(tempArr[:,1])"
   ]
  },
  {
   "cell_type": "code",
   "execution_count": null,
   "metadata": {},
   "outputs": [],
   "source": [
    "# Q4. 아래의 2차원 배열의 표에서 가장 점수가 높은 학생을 구하시오. 모범답안\n",
    "arr2 = [\n",
    "    [\"홍길동\", 80],\n",
    "    [\"류관순\", 76],\n",
    "    [\"강감찬\", 99],\n",
    "    [\"이성계\", 87],\n",
    "    [\"이황\", 68]\n",
    "]\n",
    "arr2\n",
    "비교 = arr2[0]\n",
    "print(비교)\n",
    "for i in range(1,len(arr2)):\n",
    "    # print(i, arr2[i])\n",
    "    if 비교[1] < arr2[i][1]:  # 뒤쪽이 크면 참\n",
    "        비교 = arr2[i]\n",
    "\n",
    "print(비교[0])"
   ]
  },
  {
   "cell_type": "code",
   "execution_count": null,
   "metadata": {},
   "outputs": [
    {
     "name": "stdout",
     "output_type": "stream",
     "text": [
      "[42, 55, 63, 68, 76, 80, 83, 87, 99, 100]\n"
     ]
    }
   ],
   "source": [
    "# Q5 아래의 1차원 배열을 이용하여 버블 방식으로 정렬하시오.\n",
    "arr3 = [80,76,63,83,99,87,100,42,68,55]\n",
    "\n",
    "for i in range(len(arr3)):\n",
    "    for j in range(len(arr3) -1 -i):\n",
    "        if arr3[j] > arr3[j+1]:\n",
    "            temp = arr3[j]\n",
    "            arr3[j] = arr3[j+1]\n",
    "            arr3[j+1] = temp\n",
    "print(arr3)\n"
   ]
  },
  {
   "cell_type": "code",
   "execution_count": null,
   "metadata": {},
   "outputs": [
    {
     "name": "stdout",
     "output_type": "stream",
     "text": [
      "감자칩/새우깡/도리토스/건전지/양말\n",
      "['감자칩', '새우깡', '도리토스', '건전지', '양말']\n"
     ]
    }
   ],
   "source": [
    "# Q6 옆사람과 서로 다른 문제를 만들고 풀어 보기 \n",
    "# (11:47 ~ 12:00 각자 문제 만들고 12시부터 13시까지 풀고 13:20 코드 리뷰)\n",
    "\n",
    "#myString을 myArray리스트에 각각 잘라서 넣으시오.\n",
    "myString = \"감자칩/새우깡/도리토스/건전지/양말\"\n",
    "\n",
    "print(myString)\n",
    "myArray = myString.split('/')\n",
    "print(myArray)\n"
   ]
  },
  {
   "cell_type": "code",
   "execution_count": null,
   "metadata": {},
   "outputs": [
    {
     "name": "stdout",
     "output_type": "stream",
     "text": [
      "['charlie', 'foxtrot']\n"
     ]
    }
   ],
   "source": [
    "#다음 소스 코드를 완성하여 리스트 a에 들어있는 문자열 중에서 길이가 7인 것들만 리스트 형태로 출력되게 만드세요(리스트 표현식 사용).\n",
    "\n",
    "\n",
    "a = ['alpha', 'bravo', 'charlie', 'delta', 'echo', 'foxtrot', 'golf', 'hotel', 'india']\n",
    "b = []\n",
    " \n",
    "for i in range(len(a)):\n",
    "    if len(a[i]) == 7:\n",
    "        b.append(a[i])\n",
    "\n",
    "print(b)"
   ]
  },
  {
   "cell_type": "code",
   "execution_count": 113,
   "metadata": {},
   "outputs": [
    {
     "name": "stdout",
     "output_type": "stream",
     "text": [
      "['홍길동', 80]\n",
      "['류관순', 76]\n",
      "['이황', 68]\n"
     ]
    }
   ],
   "source": [
    "# 아래의 2차원 배열의 표에서 평균 값을 구한 후 평균 값 이상인 학생만 구하시오.\n",
    "arr = [\n",
    "    [\"홍길동\", 80],\n",
    "    [\"류관순\", 76],\n",
    "    [\"강감찬\", 99],\n",
    "    [\"이성계\", 87],\n",
    "    [\"이황\", 68]\n",
    "]\n",
    "cSum=0\n",
    "for i in arr:\n",
    "    cSum += i[1]\n",
    "\n",
    "avg= cSum/len(arr)\n",
    "\n",
    "for i in arr:\n",
    "    if avg >i[1]:\n",
    "        print(i)\n"
   ]
  },
  {
   "cell_type": "code",
   "execution_count": 119,
   "metadata": {},
   "outputs": [
    {
     "name": "stdout",
     "output_type": "stream",
     "text": [
      "[98, 87, 79, 55, 47, 47, 44, 35, 24, 18, 15, 12, 5]\n",
      "43.53846153846154\n"
     ]
    }
   ],
   "source": [
    "#아래 배열에서 홀수와 짝수를 따로 반환해 각 배열을 오름차순 정렬하여 출력한 뒤, 각 배열의 평균값을 구하시오.\n",
    "\n",
    "arr = [18,44,87,35,15,24,79,12,55,47,47,98,5]\n",
    "\n",
    "for i in range(len(arr)):\n",
    "    for j in range(len(arr) -1 -i):\n",
    "        if arr[j] < arr[j+1]:\n",
    "            temp = arr[j]\n",
    "            arr[j] = arr[j+1]\n",
    "            arr[j+1] = temp\n",
    "print(arr)\n",
    "\n",
    "cSum = 0\n",
    "for i in range(len(arr)):\n",
    "    cSum += arr[i]\n",
    "\n",
    "avg = cSum/len(arr)\n",
    "print(avg)"
   ]
  },
  {
   "cell_type": "code",
   "execution_count": null,
   "metadata": {},
   "outputs": [],
   "source": [
    "# 아래의 2차원 배열의 표에서 점수 평균을 구하시고, 가장 점수가 높은 학생과 가장 점수가 낮은 학생을 구하시오.\n",
    "\n",
    "arr = [\n",
    "    [\"A\", 79],\n",
    "    [\"B\", 93],\n",
    "    [\"C\", 75],\n",
    "    [\"D\", 89],\n",
    "    [\"E\", 81],\n",
    "]\n",
    "\n",
    "max = arr[0]\n",
    "\n",
    "for i in range(len(arr)):\n",
    "    "
   ]
  }
 ],
 "metadata": {
  "kernelspec": {
   "display_name": "Python 3",
   "language": "python",
   "name": "python3"
  },
  "language_info": {
   "codemirror_mode": {
    "name": "ipython",
    "version": 3
   },
   "file_extension": ".py",
   "mimetype": "text/x-python",
   "name": "python",
   "nbconvert_exporter": "python",
   "pygments_lexer": "ipython3",
   "version": "3.12.3"
  }
 },
 "nbformat": 4,
 "nbformat_minor": 2
}
