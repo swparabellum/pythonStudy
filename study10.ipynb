{
 "cells": [
  {
   "cell_type": "code",
   "execution_count": 1,
   "metadata": {},
   "outputs": [
    {
     "data": {
      "text/plain": [
       "<_io.TextIOWrapper name='1' mode='w' encoding='UTF-8'>"
      ]
     },
     "execution_count": 1,
     "metadata": {},
     "output_type": "execute_result"
    }
   ],
   "source": [
    "open(\"1\",'w')"
   ]
  },
  {
   "cell_type": "code",
   "execution_count": 12,
   "metadata": {},
   "outputs": [
    {
     "name": "stdout",
     "output_type": "stream",
     "text": [
      "호롤롤로\n",
      "\n",
      "adf\n"
     ]
    }
   ],
   "source": [
    "a = open(\"1\")\n",
    "print(a.readline())\n",
    "print(a.readline())"
   ]
  },
  {
   "cell_type": "code",
   "execution_count": 16,
   "metadata": {},
   "outputs": [
    {
     "name": "stdout",
     "output_type": "stream",
     "text": [
      "\n"
     ]
    }
   ],
   "source": [
    "a= open(\"1\",encoding=\"UTF-8\")\n",
    "while True:\n",
    "    txt = a.readline()\n",
    "    if txt == \"\":\n",
    "        break\n",
    "print(txt)\n",
    "\n",
    "a.close()"
   ]
  },
  {
   "cell_type": "code",
   "execution_count": 32,
   "metadata": {},
   "outputs": [],
   "source": [
    "b = open(\"1\",mode='a',encoding=\"UTF-8\")\n",
    "b.write(\"엘렐레\\n\")\n",
    "b.close()"
   ]
  },
  {
   "cell_type": "code",
   "execution_count": 35,
   "metadata": {},
   "outputs": [],
   "source": [
    "b = open(\"1\",mode='a',encoding=\"UTF-8\")\n",
    "txt = input(\"엘렐레 하세요.\")\n",
    "b.write(f\"\\n{txt}\")\n",
    "b.close()"
   ]
  },
  {
   "cell_type": "code",
   "execution_count": null,
   "metadata": {},
   "outputs": [],
   "source": [
    "def checkTxtLength(file):\n",
    "    txt = open(file,encoding=\"UTF-8\")\n",
    "    cnt = 0\n",
    "    while True:\n",
    "        if txt.readline() == \"\":\n",
    "            break\n",
    "        else:\n",
    "            cnt +=1\n",
    "    txt.close()\n",
    "    return cnt\n",
    "\n",
    "def writeFile():\n",
    "    fName =\"newfile\"\n",
    "    file = open(fName, mode='a', encoding=\"UTF-8\")\n",
    "    cnt = checkTxtLength(fName)\n",
    "\n",
    "    while True:\n",
    "        doWrite=input(\"아무말하세요.: \")\n",
    "        if doWrite != \"!\":\n",
    "            if cnt == 0:\n",
    "                file.write(f\"{doWrite}\")\n",
    "                cnt += 1\n",
    "            else:\n",
    "                file.write(f\"\\n{doWrite}\")\n",
    "        else:\n",
    "            file.close()\n",
    "            break\n",
    "\n",
    "writeFile()"
   ]
  },
  {
   "cell_type": "code",
   "execution_count": null,
   "metadata": {},
   "outputs": [
    {
     "name": "stdout",
     "output_type": "stream",
     "text": [
      "['엘렐레', '엘렐레', '엘렐레', '', '{txt}', '{txt}', '싫어요']\n"
     ]
    }
   ],
   "source": [
    "b = open(\"1\",mode='r',encoding=\"UTF-8\")\n",
    "c = b.readlines()\n",
    "for i in range(len(c)):\n",
    "    c[i] = c[i].replace(\"\\n\",\"\")\n",
    "b.close()\n",
    "\n",
    "print(c)"
   ]
  },
  {
   "cell_type": "code",
   "execution_count": 69,
   "metadata": {},
   "outputs": [],
   "source": [
    "a = open(\"file.csv\", mode=\"w\",encoding=\"UTF-8\")\n",
    "\n",
    "for i in range(1,10):\n",
    "    for j in range(1,10):\n",
    "        a.write(f\"{i},{j},{i*j}\\n\")\n",
    "a.close()"
   ]
  },
  {
   "cell_type": "code",
   "execution_count": null,
   "metadata": {},
   "outputs": [],
   "source": [
    "csv = open(\"study10.csv\",mode=\"a\")\n"
   ]
  }
 ],
 "metadata": {
  "kernelspec": {
   "display_name": "Python 3",
   "language": "python",
   "name": "python3"
  },
  "language_info": {
   "codemirror_mode": {
    "name": "ipython",
    "version": 3
   },
   "file_extension": ".py",
   "mimetype": "text/x-python",
   "name": "python",
   "nbconvert_exporter": "python",
   "pygments_lexer": "ipython3",
   "version": "3.12.3"
  }
 },
 "nbformat": 4,
 "nbformat_minor": 2
}
