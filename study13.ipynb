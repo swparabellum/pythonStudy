{
 "cells": [
  {
   "cell_type": "code",
   "execution_count": 47,
   "metadata": {},
   "outputs": [
    {
     "data": {
      "text/plain": [
       "<html><head></head><body></body></html>"
      ]
     },
     "execution_count": 47,
     "metadata": {},
     "output_type": "execute_result"
    }
   ],
   "source": [
    "from bs4 import BeautifulSoup\n",
    "import requests as req\n",
    "import pandas as pd\n",
    "BeautifulSoup()"
   ]
  },
  {
   "cell_type": "code",
   "execution_count": 48,
   "metadata": {},
   "outputs": [
    {
     "data": {
      "text/plain": [
       "'\\n<!DOCTYPE html>\\n<html>\\n    <head><meta charset=\"UTF-8\"></head>\\n    <body>\\n        <h1>안녕하살법!</h1>\\n        <h3>안녕하세요.</h3>\\n        안녕하살법!\\n    </body>\\n</html>\\n'"
      ]
     },
     "execution_count": 48,
     "metadata": {},
     "output_type": "execute_result"
    }
   ],
   "source": [
    "html = '''\n",
    "<!DOCTYPE html>\n",
    "<html>\n",
    "    <head><meta charset=\"UTF-8\"></head>\n",
    "    <body>\n",
    "        <h1>안녕하살법!</h1>\n",
    "        <h3>안녕하세요.</h3>\n",
    "        안녕하살법!\n",
    "    </body>\n",
    "</html>\n",
    "'''\n",
    "html"
   ]
  },
  {
   "cell_type": "code",
   "execution_count": 49,
   "metadata": {},
   "outputs": [
    {
     "data": {
      "text/plain": [
       "'안녕하세요.'"
      ]
     },
     "execution_count": 49,
     "metadata": {},
     "output_type": "execute_result"
    }
   ],
   "source": [
    "data=BeautifulSoup(html,'html.parser')\n",
    "data.find(\"h3\").text"
   ]
  },
  {
   "cell_type": "code",
   "execution_count": 50,
   "metadata": {},
   "outputs": [
    {
     "data": {
      "text/plain": [
       "'<!DOCTYPE html>\\n<html>\\n    <head>\\n        <title>JARL Web English Menu</title>\\n    </head>\\n    <body>\\n        <header>\\n            <img src=\"media/img/haed-1.gif\" alt=\"JARL WEB\">\\n            <h3>Welcome</h3>\\n            to the web site of<br>\\n            The Japan Amateur Radio Leage, Inc. (JARL)<br>\\n            <hr>\\n        </header>\\n        <section>\\n            <article>\\n                About JARL\\n                <ul>\\n                    <li><a href=\"\">General Information</a></li>\\n                    <li><a href=\"\">Board Members</a></li>\\n                </ul>\\n            </article>\\n            <article>\\n                Information\\n                <ul>\\n                    <li><a href=\"\">HAM Fair 2024</a></li>\\n                    August 24th (Saturday) and 25th (Sunday) in Tokyo<br>\\n                    and Reports of HAM Fairs in past years. \\n                    <li><a href=\"\">JARL at Dayton</a>   Index</li>\\n                </ul>\\n            </article>\\n        </section>\\n        <footer>\\n           <hr>\\n           Copyright © 1997-2024<br>\\n           The Japan Amateur Radio League, Inc.<br>\\n           Tel:+81-3-3988-8753   Fax:+81-3-3988-8772<br>\\n           E-mail: intl@jarl.org<br>\\n           <a href=\"\">JARL HQ Location</a><br>\\n        </footer>\\n    </body>\\n</html>'"
      ]
     },
     "execution_count": 50,
     "metadata": {},
     "output_type": "execute_result"
    }
   ],
   "source": [
    "r = req.get(\"https://swparabellum.github.io/webStudy/JARL/JARL-English.html\")\n",
    "r.text\n",
    "\n"
   ]
  },
  {
   "cell_type": "code",
   "execution_count": 59,
   "metadata": {},
   "outputs": [],
   "source": [
    "def print1(data):\n",
    "    arr = data.find_all(\"h1\")\n",
    "    # print(len(arr), type(arr))\n",
    "    for txt in arr:\n",
    "        print(type(txt.text))\n",
    "\n",
    "\n",
    "#arr txt.text 의 타입은?\n",
    "#출력되어야하는데 해당 태그들이 없어서 출력이 안되는상황 고칠것."
   ]
  },
  {
   "cell_type": "code",
   "execution_count": null,
   "metadata": {},
   "outputs": [
    {
     "data": {
      "text/html": [
       "<div>\n",
       "<style scoped>\n",
       "    .dataframe tbody tr th:only-of-type {\n",
       "        vertical-align: middle;\n",
       "    }\n",
       "\n",
       "    .dataframe tbody tr th {\n",
       "        vertical-align: top;\n",
       "    }\n",
       "\n",
       "    .dataframe thead th {\n",
       "        text-align: right;\n",
       "    }\n",
       "</style>\n",
       "<table border=\"1\" class=\"dataframe\">\n",
       "  <thead>\n",
       "    <tr style=\"text-align: right;\">\n",
       "      <th></th>\n",
       "      <th>이름</th>\n",
       "      <th>나이</th>\n",
       "    </tr>\n",
       "  </thead>\n",
       "  <tbody>\n",
       "    <tr>\n",
       "      <th>1</th>\n",
       "      <td>홍길동</td>\n",
       "      <td>17</td>\n",
       "    </tr>\n",
       "    <tr>\n",
       "      <th>2</th>\n",
       "      <td>류관순</td>\n",
       "      <td>16</td>\n",
       "    </tr>\n",
       "  </tbody>\n",
       "</table>\n",
       "</div>"
      ],
      "text/plain": [
       "    이름  나이\n",
       "1  홍길동  17\n",
       "2  류관순  16"
      ]
     },
     "execution_count": 62,
     "metadata": {},
     "output_type": "execute_result"
    }
   ],
   "source": [
    "#r = req.get(\"https://swparabellum.github.io/webStudy/JARL/JARL-English.html\")\n",
    "r = req.get(\"http://127.0.0.1:5500/html/page.html\")\n",
    "data1 = BeautifulSoup(r.text, 'html.parser')\n",
    "# print1(data1)\n",
    "idx = []\n",
    "col = []\n",
    "data2 = data1.find(\"th\").find_all(\"td\")\n",
    "for i in range(1, len(data2)):\n",
    "    col.append(data2[i].text)\n",
    "list = []\n",
    "data3 = data1.find(\"tbody\").find_all(\"tr\")\n",
    "for i in range(len(data3)):\n",
    "    arr = []\n",
    "    data4 = data3[i].find_all(\"td\")\n",
    "    idx.append(data4[0].text)\n",
    "    for j in range(1, len(data4)):\n",
    "        arr.append(data4[j].text)\n",
    "    list.append(arr)\n",
    "# print(idx)\n",
    "# print(col)\n",
    "# print(list)\n",
    "df = pd.DataFrame(list, index=idx, columns=col)\n",
    "df\n"
   ]
  },
  {
   "cell_type": "code",
   "execution_count": 66,
   "metadata": {},
   "outputs": [
    {
     "data": {
      "text/plain": [
       "requests.models.Response"
      ]
     },
     "execution_count": 66,
     "metadata": {},
     "output_type": "execute_result"
    }
   ],
   "source": [
    "type(r)"
   ]
  }
 ],
 "metadata": {
  "kernelspec": {
   "display_name": "Python 3",
   "language": "python",
   "name": "python3"
  },
  "language_info": {
   "codemirror_mode": {
    "name": "ipython",
    "version": 3
   },
   "file_extension": ".py",
   "mimetype": "text/x-python",
   "name": "python",
   "nbconvert_exporter": "python",
   "pygments_lexer": "ipython3",
   "version": "3.12.3"
  }
 },
 "nbformat": 4,
 "nbformat_minor": 2
}
